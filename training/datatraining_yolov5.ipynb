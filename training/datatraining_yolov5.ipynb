{
 "cells": [
  {
   "cell_type": "code",
   "execution_count": 1,
   "metadata": {},
   "outputs": [
    {
     "name": "stdout",
     "output_type": "stream",
     "text": [
      "Requirement already satisfied: ultralytics in d:\\opencv\\football anaylsis\\.venv\\lib\\site-packages (8.3.85)\n",
      "Requirement already satisfied: numpy<=2.1.1,>=1.23.0 in d:\\opencv\\football anaylsis\\.venv\\lib\\site-packages (from ultralytics) (1.25.2)\n",
      "Requirement already satisfied: matplotlib>=3.3.0 in d:\\opencv\\football anaylsis\\.venv\\lib\\site-packages (from ultralytics) (3.10.1)\n",
      "Requirement already satisfied: opencv-python>=4.6.0 in d:\\opencv\\football anaylsis\\.venv\\lib\\site-packages (from ultralytics) (4.11.0.86)\n",
      "Requirement already satisfied: pillow>=7.1.2 in d:\\opencv\\football anaylsis\\.venv\\lib\\site-packages (from ultralytics) (11.1.0)\n",
      "Requirement already satisfied: pyyaml>=5.3.1 in d:\\opencv\\football anaylsis\\.venv\\lib\\site-packages (from ultralytics) (6.0.2)\n",
      "Requirement already satisfied: requests>=2.23.0 in d:\\opencv\\football anaylsis\\.venv\\lib\\site-packages (from ultralytics) (2.32.3)\n",
      "Requirement already satisfied: scipy>=1.4.1 in d:\\opencv\\football anaylsis\\.venv\\lib\\site-packages (from ultralytics) (1.15.2)\n",
      "Requirement already satisfied: torch>=1.8.0 in d:\\opencv\\football anaylsis\\.venv\\lib\\site-packages (from ultralytics) (2.1.0)\n",
      "Requirement already satisfied: torchvision>=0.9.0 in d:\\opencv\\football anaylsis\\.venv\\lib\\site-packages (from ultralytics) (0.16.0)\n",
      "Requirement already satisfied: tqdm>=4.64.0 in d:\\opencv\\football anaylsis\\.venv\\lib\\site-packages (from ultralytics) (4.67.1)\n",
      "Requirement already satisfied: psutil in d:\\opencv\\football anaylsis\\.venv\\lib\\site-packages (from ultralytics) (7.0.0)\n",
      "Requirement already satisfied: py-cpuinfo in d:\\opencv\\football anaylsis\\.venv\\lib\\site-packages (from ultralytics) (9.0.0)\n",
      "Requirement already satisfied: pandas>=1.1.4 in d:\\opencv\\football anaylsis\\.venv\\lib\\site-packages (from ultralytics) (2.2.3)\n",
      "Requirement already satisfied: seaborn>=0.11.0 in d:\\opencv\\football anaylsis\\.venv\\lib\\site-packages (from ultralytics) (0.13.2)\n",
      "Requirement already satisfied: ultralytics-thop>=2.0.0 in d:\\opencv\\football anaylsis\\.venv\\lib\\site-packages (from ultralytics) (2.0.14)\n",
      "Requirement already satisfied: contourpy>=1.0.1 in d:\\opencv\\football anaylsis\\.venv\\lib\\site-packages (from matplotlib>=3.3.0->ultralytics) (1.3.1)\n",
      "Requirement already satisfied: cycler>=0.10 in d:\\opencv\\football anaylsis\\.venv\\lib\\site-packages (from matplotlib>=3.3.0->ultralytics) (0.12.1)\n",
      "Requirement already satisfied: fonttools>=4.22.0 in d:\\opencv\\football anaylsis\\.venv\\lib\\site-packages (from matplotlib>=3.3.0->ultralytics) (4.56.0)\n",
      "Requirement already satisfied: kiwisolver>=1.3.1 in d:\\opencv\\football anaylsis\\.venv\\lib\\site-packages (from matplotlib>=3.3.0->ultralytics) (1.4.8)\n",
      "Requirement already satisfied: packaging>=20.0 in d:\\opencv\\football anaylsis\\.venv\\lib\\site-packages (from matplotlib>=3.3.0->ultralytics) (24.2)\n",
      "Requirement already satisfied: pyparsing>=2.3.1 in d:\\opencv\\football anaylsis\\.venv\\lib\\site-packages (from matplotlib>=3.3.0->ultralytics) (3.2.1)\n",
      "Requirement already satisfied: python-dateutil>=2.7 in d:\\opencv\\football anaylsis\\.venv\\lib\\site-packages (from matplotlib>=3.3.0->ultralytics) (2.9.0.post0)\n",
      "Requirement already satisfied: pytz>=2020.1 in d:\\opencv\\football anaylsis\\.venv\\lib\\site-packages (from pandas>=1.1.4->ultralytics) (2025.1)\n",
      "Requirement already satisfied: tzdata>=2022.7 in d:\\opencv\\football anaylsis\\.venv\\lib\\site-packages (from pandas>=1.1.4->ultralytics) (2025.1)\n",
      "Requirement already satisfied: charset-normalizer<4,>=2 in d:\\opencv\\football anaylsis\\.venv\\lib\\site-packages (from requests>=2.23.0->ultralytics) (3.4.1)\n",
      "Requirement already satisfied: idna<4,>=2.5 in d:\\opencv\\football anaylsis\\.venv\\lib\\site-packages (from requests>=2.23.0->ultralytics) (3.10)\n",
      "Requirement already satisfied: urllib3<3,>=1.21.1 in d:\\opencv\\football anaylsis\\.venv\\lib\\site-packages (from requests>=2.23.0->ultralytics) (2.3.0)\n",
      "Requirement already satisfied: certifi>=2017.4.17 in d:\\opencv\\football anaylsis\\.venv\\lib\\site-packages (from requests>=2.23.0->ultralytics) (2025.1.31)\n",
      "Requirement already satisfied: filelock in d:\\opencv\\football anaylsis\\.venv\\lib\\site-packages (from torch>=1.8.0->ultralytics) (3.17.0)\n",
      "Requirement already satisfied: typing-extensions in d:\\opencv\\football anaylsis\\.venv\\lib\\site-packages (from torch>=1.8.0->ultralytics) (4.12.2)\n",
      "Requirement already satisfied: sympy in d:\\opencv\\football anaylsis\\.venv\\lib\\site-packages (from torch>=1.8.0->ultralytics) (1.13.1)\n",
      "Requirement already satisfied: networkx in d:\\opencv\\football anaylsis\\.venv\\lib\\site-packages (from torch>=1.8.0->ultralytics) (3.4.2)\n",
      "Requirement already satisfied: jinja2 in d:\\opencv\\football anaylsis\\.venv\\lib\\site-packages (from torch>=1.8.0->ultralytics) (3.1.6)\n",
      "Requirement already satisfied: fsspec in d:\\opencv\\football anaylsis\\.venv\\lib\\site-packages (from torch>=1.8.0->ultralytics) (2025.2.0)\n",
      "Requirement already satisfied: colorama in d:\\opencv\\football anaylsis\\.venv\\lib\\site-packages (from tqdm>=4.64.0->ultralytics) (0.4.6)\n",
      "Requirement already satisfied: six>=1.5 in d:\\opencv\\football anaylsis\\.venv\\lib\\site-packages (from python-dateutil>=2.7->matplotlib>=3.3.0->ultralytics) (1.17.0)\n",
      "Requirement already satisfied: MarkupSafe>=2.0 in d:\\opencv\\football anaylsis\\.venv\\lib\\site-packages (from jinja2->torch>=1.8.0->ultralytics) (3.0.2)\n",
      "Requirement already satisfied: mpmath<1.4,>=1.1.0 in d:\\opencv\\football anaylsis\\.venv\\lib\\site-packages (from sympy->torch>=1.8.0->ultralytics) (1.3.0)\n"
     ]
    },
    {
     "name": "stderr",
     "output_type": "stream",
     "text": [
      "\n",
      "[notice] A new release of pip is available: 23.2.1 -> 25.0.1\n",
      "[notice] To update, run: python.exe -m pip install --upgrade pip\n"
     ]
    },
    {
     "name": "stdout",
     "output_type": "stream",
     "text": [
      "Collecting roboflow\n",
      "  Obtaining dependency information for roboflow from https://files.pythonhosted.org/packages/0e/58/e9845284ce7aa065e710f7b63c523490ea6aa9b8e953d774a829ef3a9bf6/roboflow-1.1.54-py3-none-any.whl.metadata\n",
      "  Downloading roboflow-1.1.54-py3-none-any.whl.metadata (9.7 kB)\n",
      "Requirement already satisfied: certifi in d:\\opencv\\football anaylsis\\.venv\\lib\\site-packages (from roboflow) (2025.1.31)\n",
      "Collecting idna==3.7 (from roboflow)\n",
      "  Obtaining dependency information for idna==3.7 from https://files.pythonhosted.org/packages/e5/3e/741d8c82801c347547f8a2a06aa57dbb1992be9e948df2ea0eda2c8b79e8/idna-3.7-py3-none-any.whl.metadata\n",
      "  Downloading idna-3.7-py3-none-any.whl.metadata (9.9 kB)\n",
      "Requirement already satisfied: cycler in d:\\opencv\\football anaylsis\\.venv\\lib\\site-packages (from roboflow) (0.12.1)\n",
      "Requirement already satisfied: kiwisolver>=1.3.1 in d:\\opencv\\football anaylsis\\.venv\\lib\\site-packages (from roboflow) (1.4.8)\n",
      "Requirement already satisfied: matplotlib in d:\\opencv\\football anaylsis\\.venv\\lib\\site-packages (from roboflow) (3.10.1)\n",
      "Requirement already satisfied: numpy>=1.18.5 in d:\\opencv\\football anaylsis\\.venv\\lib\\site-packages (from roboflow) (1.25.2)\n",
      "Collecting opencv-python-headless==4.10.0.84 (from roboflow)\n",
      "  Obtaining dependency information for opencv-python-headless==4.10.0.84 from https://files.pythonhosted.org/packages/26/d0/22f68eb23eea053a31655960f133c0be9726c6a881547e6e9e7e2a946c4f/opencv_python_headless-4.10.0.84-cp37-abi3-win_amd64.whl.metadata\n",
      "  Downloading opencv_python_headless-4.10.0.84-cp37-abi3-win_amd64.whl.metadata (20 kB)\n",
      "Requirement already satisfied: Pillow>=7.1.2 in d:\\opencv\\football anaylsis\\.venv\\lib\\site-packages (from roboflow) (11.1.0)\n",
      "Requirement already satisfied: python-dateutil in d:\\opencv\\football anaylsis\\.venv\\lib\\site-packages (from roboflow) (2.9.0.post0)\n",
      "Collecting python-dotenv (from roboflow)\n",
      "  Obtaining dependency information for python-dotenv from https://files.pythonhosted.org/packages/6a/3e/b68c118422ec867fa7ab88444e1274aa40681c606d59ac27de5a5588f082/python_dotenv-1.0.1-py3-none-any.whl.metadata\n",
      "  Downloading python_dotenv-1.0.1-py3-none-any.whl.metadata (23 kB)\n",
      "Requirement already satisfied: requests in d:\\opencv\\football anaylsis\\.venv\\lib\\site-packages (from roboflow) (2.32.3)\n",
      "Requirement already satisfied: six in d:\\opencv\\football anaylsis\\.venv\\lib\\site-packages (from roboflow) (1.17.0)\n",
      "Requirement already satisfied: urllib3>=1.26.6 in d:\\opencv\\football anaylsis\\.venv\\lib\\site-packages (from roboflow) (2.3.0)\n",
      "Requirement already satisfied: tqdm>=4.41.0 in d:\\opencv\\football anaylsis\\.venv\\lib\\site-packages (from roboflow) (4.67.1)\n",
      "Requirement already satisfied: PyYAML>=5.3.1 in d:\\opencv\\football anaylsis\\.venv\\lib\\site-packages (from roboflow) (6.0.2)\n",
      "Collecting requests-toolbelt (from roboflow)\n",
      "  Obtaining dependency information for requests-toolbelt from https://files.pythonhosted.org/packages/3f/51/d4db610ef29373b879047326cbf6fa98b6c1969d6f6dc423279de2b1be2c/requests_toolbelt-1.0.0-py2.py3-none-any.whl.metadata\n",
      "  Downloading requests_toolbelt-1.0.0-py2.py3-none-any.whl.metadata (14 kB)\n",
      "Collecting filetype (from roboflow)\n",
      "  Obtaining dependency information for filetype from https://files.pythonhosted.org/packages/18/79/1b8fa1bb3568781e84c9200f951c735f3f157429f44be0495da55894d620/filetype-1.2.0-py2.py3-none-any.whl.metadata\n",
      "  Downloading filetype-1.2.0-py2.py3-none-any.whl.metadata (6.5 kB)\n",
      "Requirement already satisfied: colorama in d:\\opencv\\football anaylsis\\.venv\\lib\\site-packages (from tqdm>=4.41.0->roboflow) (0.4.6)\n",
      "Requirement already satisfied: contourpy>=1.0.1 in d:\\opencv\\football anaylsis\\.venv\\lib\\site-packages (from matplotlib->roboflow) (1.3.1)\n",
      "Requirement already satisfied: fonttools>=4.22.0 in d:\\opencv\\football anaylsis\\.venv\\lib\\site-packages (from matplotlib->roboflow) (4.56.0)\n",
      "Requirement already satisfied: packaging>=20.0 in d:\\opencv\\football anaylsis\\.venv\\lib\\site-packages (from matplotlib->roboflow) (24.2)\n",
      "Requirement already satisfied: pyparsing>=2.3.1 in d:\\opencv\\football anaylsis\\.venv\\lib\\site-packages (from matplotlib->roboflow) (3.2.1)\n",
      "Requirement already satisfied: charset-normalizer<4,>=2 in d:\\opencv\\football anaylsis\\.venv\\lib\\site-packages (from requests->roboflow) (3.4.1)\n",
      "Downloading roboflow-1.1.54-py3-none-any.whl (83 kB)\n",
      "   ---------------------------------------- 0.0/83.1 kB ? eta -:--:--\n",
      "   ---------------------------------------- 83.1/83.1 kB 4.9 MB/s eta 0:00:00\n",
      "Downloading idna-3.7-py3-none-any.whl (66 kB)\n",
      "   ---------------------------------------- 0.0/66.8 kB ? eta -:--:--\n",
      "   ---------------------------------------- 66.8/66.8 kB 3.5 MB/s eta 0:00:00\n",
      "Downloading opencv_python_headless-4.10.0.84-cp37-abi3-win_amd64.whl (38.8 MB)\n",
      "   ---------------------------------------- 0.0/38.8 MB ? eta -:--:--\n",
      "   ---------------------------------------- 0.2/38.8 MB 5.3 MB/s eta 0:00:08\n",
      "   ---------------------------------------- 0.5/38.8 MB 5.9 MB/s eta 0:00:07\n",
      "    --------------------------------------- 0.8/38.8 MB 6.7 MB/s eta 0:00:06\n",
      "   - -------------------------------------- 1.2/38.8 MB 6.7 MB/s eta 0:00:06\n",
      "   - -------------------------------------- 1.5/38.8 MB 7.0 MB/s eta 0:00:06\n",
      "   -- ------------------------------------- 2.0/38.8 MB 7.5 MB/s eta 0:00:05\n",
      "   -- ------------------------------------- 2.4/38.8 MB 7.7 MB/s eta 0:00:05\n",
      "   -- ------------------------------------- 2.5/38.8 MB 7.0 MB/s eta 0:00:06\n",
      "   --- ------------------------------------ 2.9/38.8 MB 7.1 MB/s eta 0:00:06\n",
      "   --- ------------------------------------ 3.4/38.8 MB 7.4 MB/s eta 0:00:05\n",
      "   --- ------------------------------------ 3.9/38.8 MB 7.7 MB/s eta 0:00:05\n",
      "   ---- ----------------------------------- 4.3/38.8 MB 7.9 MB/s eta 0:00:05\n",
      "   ---- ----------------------------------- 4.6/38.8 MB 8.0 MB/s eta 0:00:05\n",
      "   ----- ---------------------------------- 5.0/38.8 MB 8.0 MB/s eta 0:00:05\n",
      "   ----- ---------------------------------- 5.2/38.8 MB 8.0 MB/s eta 0:00:05\n",
      "   ----- ---------------------------------- 5.2/38.8 MB 8.0 MB/s eta 0:00:05\n",
      "   ----- ---------------------------------- 5.2/38.8 MB 8.0 MB/s eta 0:00:05\n",
      "   ----- ---------------------------------- 5.2/38.8 MB 8.0 MB/s eta 0:00:05\n",
      "   ----- ---------------------------------- 5.2/38.8 MB 8.0 MB/s eta 0:00:05\n",
      "   ----- ---------------------------------- 5.2/38.8 MB 8.0 MB/s eta 0:00:05\n",
      "   ----- ---------------------------------- 5.4/38.8 MB 5.6 MB/s eta 0:00:06\n",
      "   ------ --------------------------------- 6.0/38.8 MB 5.9 MB/s eta 0:00:06\n",
      "   ------ --------------------------------- 6.4/38.8 MB 6.0 MB/s eta 0:00:06\n",
      "   ------- -------------------------------- 7.0/38.8 MB 6.4 MB/s eta 0:00:05\n",
      "   ------- -------------------------------- 7.5/38.8 MB 6.5 MB/s eta 0:00:05\n",
      "   -------- ------------------------------- 8.0/38.8 MB 6.7 MB/s eta 0:00:05\n",
      "   -------- ------------------------------- 8.4/38.8 MB 6.9 MB/s eta 0:00:05\n",
      "   -------- ------------------------------- 8.4/38.8 MB 6.9 MB/s eta 0:00:05\n",
      "   -------- ------------------------------- 8.4/38.8 MB 6.9 MB/s eta 0:00:05\n",
      "   -------- ------------------------------- 8.4/38.8 MB 6.9 MB/s eta 0:00:05\n",
      "   -------- ------------------------------- 8.4/38.8 MB 6.9 MB/s eta 0:00:05\n",
      "   -------- ------------------------------- 8.6/38.8 MB 5.8 MB/s eta 0:00:06\n",
      "   --------- ------------------------------ 9.0/38.8 MB 5.9 MB/s eta 0:00:06\n",
      "   --------- ------------------------------ 9.5/38.8 MB 6.0 MB/s eta 0:00:05\n",
      "   ---------- ----------------------------- 9.9/38.8 MB 6.1 MB/s eta 0:00:05\n",
      "   ---------- ----------------------------- 10.4/38.8 MB 6.2 MB/s eta 0:00:05\n",
      "   ---------- ----------------------------- 10.5/38.8 MB 6.3 MB/s eta 0:00:05\n",
      "   ---------- ----------------------------- 10.5/38.8 MB 6.3 MB/s eta 0:00:05\n",
      "   ---------- ----------------------------- 10.5/38.8 MB 6.3 MB/s eta 0:00:05\n",
      "   ---------- ----------------------------- 10.5/38.8 MB 6.3 MB/s eta 0:00:05\n",
      "   ---------- ----------------------------- 10.5/38.8 MB 6.3 MB/s eta 0:00:05\n",
      "   ----------- ---------------------------- 11.0/38.8 MB 5.6 MB/s eta 0:00:06\n",
      "   ----------- ---------------------------- 11.5/38.8 MB 5.6 MB/s eta 0:00:05\n",
      "   ------------ --------------------------- 12.2/38.8 MB 5.7 MB/s eta 0:00:05\n",
      "   ------------- -------------------------- 12.7/38.8 MB 5.7 MB/s eta 0:00:05\n",
      "   ------------- -------------------------- 12.9/38.8 MB 5.8 MB/s eta 0:00:05\n",
      "   ------------- -------------------------- 13.5/38.8 MB 5.8 MB/s eta 0:00:05\n",
      "   -------------- ------------------------- 13.6/38.8 MB 5.8 MB/s eta 0:00:05\n",
      "   -------------- ------------------------- 13.6/38.8 MB 5.8 MB/s eta 0:00:05\n",
      "   -------------- ------------------------- 13.6/38.8 MB 5.8 MB/s eta 0:00:05\n",
      "   -------------- ------------------------- 13.8/38.8 MB 5.4 MB/s eta 0:00:05\n",
      "   -------------- ------------------------- 14.3/38.8 MB 5.4 MB/s eta 0:00:05\n",
      "   --------------- ------------------------ 14.9/38.8 MB 5.4 MB/s eta 0:00:05\n",
      "   --------------- ------------------------ 15.4/38.8 MB 5.5 MB/s eta 0:00:05\n",
      "   ---------------- ----------------------- 15.7/38.8 MB 6.5 MB/s eta 0:00:04\n",
      "   ---------------- ----------------------- 16.1/38.8 MB 6.4 MB/s eta 0:00:04\n",
      "   ----------------- ---------------------- 16.7/38.8 MB 6.5 MB/s eta 0:00:04\n",
      "   ----------------- ---------------------- 17.2/38.8 MB 6.5 MB/s eta 0:00:04\n",
      "   ------------------ --------------------- 17.6/38.8 MB 6.4 MB/s eta 0:00:04\n",
      "   ------------------ --------------------- 18.0/38.8 MB 6.4 MB/s eta 0:00:04\n",
      "   ------------------- -------------------- 18.5/38.8 MB 6.4 MB/s eta 0:00:04\n",
      "   ------------------- -------------------- 18.9/38.8 MB 7.4 MB/s eta 0:00:03\n",
      "   ------------------- -------------------- 18.9/38.8 MB 7.4 MB/s eta 0:00:03\n",
      "   ------------------- -------------------- 18.9/38.8 MB 7.4 MB/s eta 0:00:03\n",
      "   ------------------- -------------------- 18.9/38.8 MB 7.4 MB/s eta 0:00:03\n",
      "   ------------------- -------------------- 18.9/38.8 MB 7.4 MB/s eta 0:00:03\n",
      "   ------------------- -------------------- 19.2/38.8 MB 6.5 MB/s eta 0:00:04\n",
      "   -------------------- ------------------- 19.7/38.8 MB 6.5 MB/s eta 0:00:03\n",
      "   -------------------- ------------------- 19.9/38.8 MB 6.5 MB/s eta 0:00:03\n",
      "   -------------------- ------------------- 19.9/38.8 MB 6.5 MB/s eta 0:00:03\n",
      "   -------------------- ------------------- 19.9/38.8 MB 6.5 MB/s eta 0:00:03\n",
      "   -------------------- ------------------- 19.9/38.8 MB 6.5 MB/s eta 0:00:03\n",
      "   -------------------- ------------------- 20.0/38.8 MB 5.7 MB/s eta 0:00:04\n",
      "   --------------------- ------------------ 20.6/38.8 MB 5.8 MB/s eta 0:00:04\n",
      "   --------------------- ------------------ 21.1/38.8 MB 6.6 MB/s eta 0:00:03\n",
      "   ---------------------- ----------------- 21.7/38.8 MB 6.6 MB/s eta 0:00:03\n",
      "   ----------------------- ---------------- 22.4/38.8 MB 6.7 MB/s eta 0:00:03\n",
      "   ----------------------- ---------------- 22.9/38.8 MB 6.8 MB/s eta 0:00:03\n",
      "   ----------------------- ---------------- 23.1/38.8 MB 6.8 MB/s eta 0:00:03\n",
      "   ----------------------- ---------------- 23.1/38.8 MB 6.8 MB/s eta 0:00:03\n",
      "   ----------------------- ---------------- 23.1/38.8 MB 6.8 MB/s eta 0:00:03\n",
      "   ----------------------- ---------------- 23.1/38.8 MB 6.2 MB/s eta 0:00:03\n",
      "   ------------------------ --------------- 23.7/38.8 MB 6.1 MB/s eta 0:00:03\n",
      "   ------------------------- -------------- 24.3/38.8 MB 6.9 MB/s eta 0:00:03\n",
      "   ------------------------- -------------- 25.0/38.8 MB 6.7 MB/s eta 0:00:03\n",
      "   ------------------------- -------------- 25.2/38.8 MB 6.8 MB/s eta 0:00:02\n",
      "   ------------------------- -------------- 25.2/38.8 MB 6.8 MB/s eta 0:00:02\n",
      "   ------------------------- -------------- 25.2/38.8 MB 6.8 MB/s eta 0:00:02\n",
      "   -------------------------- ------------- 25.2/38.8 MB 6.1 MB/s eta 0:00:03\n",
      "   -------------------------- ------------- 25.9/38.8 MB 6.3 MB/s eta 0:00:03\n",
      "   --------------------------- ------------ 26.2/38.8 MB 6.2 MB/s eta 0:00:03\n",
      "   --------------------------- ------------ 26.8/38.8 MB 6.2 MB/s eta 0:00:02\n",
      "   --------------------------- ------------ 26.8/38.8 MB 6.1 MB/s eta 0:00:02\n",
      "   ---------------------------- ----------- 27.5/38.8 MB 6.0 MB/s eta 0:00:02\n",
      "   ----------------------------- ---------- 28.1/38.8 MB 6.1 MB/s eta 0:00:02\n",
      "   ----------------------------- ---------- 28.8/38.8 MB 6.2 MB/s eta 0:00:02\n",
      "   ------------------------------ --------- 29.4/38.8 MB 7.2 MB/s eta 0:00:02\n",
      "   ------------------------------ --------- 29.9/38.8 MB 7.2 MB/s eta 0:00:02\n",
      "   ------------------------------- -------- 30.6/38.8 MB 8.4 MB/s eta 0:00:01\n",
      "   -------------------------------- ------- 31.2/38.8 MB 8.5 MB/s eta 0:00:01\n",
      "   -------------------------------- ------- 31.8/38.8 MB 8.5 MB/s eta 0:00:01\n",
      "   --------------------------------- ------ 32.3/38.8 MB 8.5 MB/s eta 0:00:01\n",
      "   --------------------------------- ------ 32.9/38.8 MB 8.5 MB/s eta 0:00:01\n",
      "   ---------------------------------- ----- 33.5/38.8 MB 9.6 MB/s eta 0:00:01\n",
      "   ----------------------------------- ---- 34.2/38.8 MB 9.8 MB/s eta 0:00:01\n",
      "   ----------------------------------- ---- 34.8/38.8 MB 9.9 MB/s eta 0:00:01\n",
      "   ------------------------------------ --- 35.5/38.8 MB 12.1 MB/s eta 0:00:01\n",
      "   ------------------------------------- -- 36.1/38.8 MB 12.4 MB/s eta 0:00:01\n",
      "   ------------------------------------- -- 36.8/38.8 MB 12.8 MB/s eta 0:00:01\n",
      "   -------------------------------------- - 37.4/38.8 MB 13.6 MB/s eta 0:00:01\n",
      "   ---------------------------------------  38.0/38.8 MB 13.4 MB/s eta 0:00:01\n",
      "   ---------------------------------------  38.1/38.8 MB 12.8 MB/s eta 0:00:01\n",
      "   ---------------------------------------  38.3/38.8 MB 12.4 MB/s eta 0:00:01\n",
      "   ---------------------------------------  38.7/38.8 MB 12.1 MB/s eta 0:00:01\n",
      "   ---------------------------------------  38.7/38.8 MB 12.1 MB/s eta 0:00:01\n",
      "   ---------------------------------------  38.7/38.8 MB 12.1 MB/s eta 0:00:01\n",
      "   ---------------------------------------  38.7/38.8 MB 12.1 MB/s eta 0:00:01\n",
      "   ---------------------------------------  38.7/38.8 MB 12.1 MB/s eta 0:00:01\n",
      "   ---------------------------------------  38.7/38.8 MB 12.1 MB/s eta 0:00:01\n",
      "   ---------------------------------------  38.7/38.8 MB 12.1 MB/s eta 0:00:01\n",
      "   ---------------------------------------  38.7/38.8 MB 12.1 MB/s eta 0:00:01\n",
      "   ---------------------------------------  38.7/38.8 MB 12.1 MB/s eta 0:00:01\n",
      "   ---------------------------------------  38.7/38.8 MB 12.1 MB/s eta 0:00:01\n",
      "   ---------------------------------------  38.7/38.8 MB 12.1 MB/s eta 0:00:01\n",
      "   ---------------------------------------- 38.8/38.8 MB 7.4 MB/s eta 0:00:00\n",
      "Downloading filetype-1.2.0-py2.py3-none-any.whl (19 kB)\n",
      "Downloading python_dotenv-1.0.1-py3-none-any.whl (19 kB)\n",
      "Downloading requests_toolbelt-1.0.0-py2.py3-none-any.whl (54 kB)\n",
      "   ---------------------------------------- 0.0/54.5 kB ? eta -:--:--\n",
      "   ---------------------------------------- 54.5/54.5 kB 2.8 MB/s eta 0:00:00\n",
      "Installing collected packages: filetype, python-dotenv, opencv-python-headless, idna, requests-toolbelt, roboflow\n",
      "  Attempting uninstall: idna\n",
      "    Found existing installation: idna 3.10\n",
      "    Uninstalling idna-3.10:\n",
      "      Successfully uninstalled idna-3.10\n",
      "Successfully installed filetype-1.2.0 idna-3.7 opencv-python-headless-4.10.0.84 python-dotenv-1.0.1 requests-toolbelt-1.0.0 roboflow-1.1.54\n"
     ]
    },
    {
     "name": "stderr",
     "output_type": "stream",
     "text": [
      "\n",
      "[notice] A new release of pip is available: 23.2.1 -> 25.0.1\n",
      "[notice] To update, run: python.exe -m pip install --upgrade pip\n"
     ]
    }
   ],
   "source": [
    "!pip install ultralytics\n",
    "!pip install roboflow"
   ]
  },
  {
   "cell_type": "code",
   "execution_count": 8,
   "metadata": {},
   "outputs": [
    {
     "name": "stdout",
     "output_type": "stream",
     "text": [
      "loading Roboflow workspace...\n",
      "loading Roboflow project...\n"
     ]
    }
   ],
   "source": [
    "\n",
    "from roboflow import Roboflow\n",
    "rf = Roboflow(api_key=\"yZI927xiHxYMnigrCyuq\")\n",
    "project = rf.workspace(\"roboflow-jvuqo\").project(\"football-players-detection-3zvbc\")\n",
    "version = project.version(12)\n",
    "dataset = version.download(\"yolov5\")\n",
    "                "
   ]
  },
  {
   "cell_type": "code",
   "execution_count": 9,
   "metadata": {},
   "outputs": [
    {
     "data": {
      "text/plain": [
       "'d:\\\\opencv\\\\football anaylsis\\\\training\\\\football-players-detection-12'"
      ]
     },
     "execution_count": 9,
     "metadata": {},
     "output_type": "execute_result"
    }
   ],
   "source": [
    "dataset.location"
   ]
  },
  {
   "cell_type": "code",
   "execution_count": 10,
   "metadata": {},
   "outputs": [
    {
     "data": {
      "text/plain": [
       "'football-players-detection-12/football-players-detection-12/test'"
      ]
     },
     "execution_count": 10,
     "metadata": {},
     "output_type": "execute_result"
    }
   ],
   "source": [
    "import shutil\n",
    "shutil.move('football-players-detection-12/train',\n",
    "            'football-players-detection-12/football-players-detection-12/train')\n",
    "\n",
    "shutil.move('football-players-detection-12/valid',\n",
    "            'football-players-detection-12/football-players-detection-12/valid')\n",
    "\n",
    "shutil.move('football-players-detection-12/test',\n",
    "            'football-players-detection-12/football-players-detection-12/test')"
   ]
  },
  {
   "cell_type": "code",
   "execution_count": 11,
   "metadata": {},
   "outputs": [],
   "source": [
    "# Training"
   ]
  },
  {
   "cell_type": "code",
   "execution_count": null,
   "metadata": {},
   "outputs": [],
   "source": [
    "!yolo task=detect mode=train model=yolov5x.pt data={dataset.location}/data.yaml epochs=100 imgsz=640"
   ]
  }
 ],
 "metadata": {
  "kernelspec": {
   "display_name": ".venv",
   "language": "python",
   "name": "python3"
  },
  "language_info": {
   "codemirror_mode": {
    "name": "ipython",
    "version": 3
   },
   "file_extension": ".py",
   "mimetype": "text/x-python",
   "name": "python",
   "nbconvert_exporter": "python",
   "pygments_lexer": "ipython3",
   "version": "3.10.11"
  }
 },
 "nbformat": 4,
 "nbformat_minor": 2
}
